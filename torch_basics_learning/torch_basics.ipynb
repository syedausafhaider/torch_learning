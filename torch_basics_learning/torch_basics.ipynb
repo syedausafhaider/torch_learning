{
  "nbformat": 4,
  "nbformat_minor": 0,
  "metadata": {
    "colab": {
      "provenance": []
    },
    "kernelspec": {
      "name": "python3",
      "display_name": "Python 3"
    },
    "language_info": {
      "name": "python"
    }
  },
  "cells": [
    {
      "cell_type": "code",
      "execution_count": 1,
      "metadata": {
        "id": "PzVkCL4mRdHS"
      },
      "outputs": [],
      "source": [
        "import torch"
      ]
    },
    {
      "cell_type": "code",
      "source": [
        "# ---------------------------\n",
        "# 1. Tensor Creation\n",
        "# ---------------------------\n",
        "print(\"=== 1. Tensor Creation ===\")"
      ],
      "metadata": {
        "colab": {
          "base_uri": "https://localhost:8080/"
        },
        "id": "onfY7ScXRq0-",
        "outputId": "b714f8ac-e263-49ea-f47f-08360291d7fd"
      },
      "execution_count": 2,
      "outputs": [
        {
          "output_type": "stream",
          "name": "stdout",
          "text": [
            "=== 1. Tensor Creation ===\n"
          ]
        }
      ]
    },
    {
      "cell_type": "code",
      "source": [
        "# I have created a tensor from a Python list.\n",
        "tensor_from_list = torch.tensor([1, 2, 3])\n",
        "print(\"Tensor from List:\", tensor_from_list)"
      ],
      "metadata": {
        "colab": {
          "base_uri": "https://localhost:8080/"
        },
        "id": "66gsvnCKR1SM",
        "outputId": "d7238f83-446e-418e-e30c-d4f69066a57a"
      },
      "execution_count": 3,
      "outputs": [
        {
          "output_type": "stream",
          "name": "stdout",
          "text": [
            "Tensor from List: tensor([1, 2, 3])\n"
          ]
        }
      ]
    },
    {
      "cell_type": "code",
      "source": [
        "# I have created tensors filled with zeros and ones.\n",
        "zeros_tensor = torch.zeros((2, 3))  # A 2x3 tensor filled with zeros\n",
        "ones_tensor = torch.ones((2, 3))    # A 2x3 tensor filled with ones\n",
        "print(\"Zeros Tensor:\\n\", zeros_tensor)\n",
        "print(\"Ones Tensor:\\n\", ones_tensor)"
      ],
      "metadata": {
        "colab": {
          "base_uri": "https://localhost:8080/"
        },
        "id": "IdpU89WER4hs",
        "outputId": "b48e2753-50c5-499c-a5c1-0f6ba740966b"
      },
      "execution_count": 4,
      "outputs": [
        {
          "output_type": "stream",
          "name": "stdout",
          "text": [
            "Zeros Tensor:\n",
            " tensor([[0., 0., 0.],\n",
            "        [0., 0., 0.]])\n",
            "Ones Tensor:\n",
            " tensor([[1., 1., 1.],\n",
            "        [1., 1., 1.]])\n"
          ]
        }
      ]
    },
    {
      "cell_type": "code",
      "source": [
        "# I have generated tensors with random values from uniform and normal distributions.\n",
        "random_uniform = torch.rand(2, 3)  # Random values between [0, 1)\n",
        "random_normal = torch.randn(2, 3)  # Random values from a normal distribution (mean=0, std=1)\n",
        "print(\"Random Uniform Tensor:\\n\", random_uniform)\n",
        "print(\"Random Normal Tensor:\\n\", random_normal)"
      ],
      "metadata": {
        "colab": {
          "base_uri": "https://localhost:8080/"
        },
        "id": "abaEZtp_R8A6",
        "outputId": "507a7d77-7748-43fb-9327-c29c8ec2198c"
      },
      "execution_count": 5,
      "outputs": [
        {
          "output_type": "stream",
          "name": "stdout",
          "text": [
            "Random Uniform Tensor:\n",
            " tensor([[0.8995, 0.2085, 0.8515],\n",
            "        [0.1644, 0.3759, 0.6203]])\n",
            "Random Normal Tensor:\n",
            " tensor([[-1.7250, -0.6158,  1.4456],\n",
            "        [-0.6506, -0.3062,  0.2288]])\n"
          ]
        }
      ]
    },
    {
      "cell_type": "code",
      "source": [
        "# I have created a tensor with a range of values using `torch.arange`.\n",
        "range_tensor = torch.arange(1, 10, 2)  # Start=1, End=10, Step=2\n",
        "print(\"Range Tensor:\", range_tensor)"
      ],
      "metadata": {
        "colab": {
          "base_uri": "https://localhost:8080/"
        },
        "id": "yKzHc7FqSATz",
        "outputId": "830a863c-68b4-4c43-9f21-d83b882f095d"
      },
      "execution_count": 6,
      "outputs": [
        {
          "output_type": "stream",
          "name": "stdout",
          "text": [
            "Range Tensor: tensor([1, 3, 5, 7, 9])\n"
          ]
        }
      ]
    },
    {
      "cell_type": "code",
      "source": [
        "# I have created a tensor filled with a fixed value using `torch.full`.\n",
        "full_tensor = torch.full((2, 3), fill_value=5)  # A 2x3 tensor filled with the value 5\n",
        "print(\"Full Tensor (filled with 5):\\n\", full_tensor)"
      ],
      "metadata": {
        "colab": {
          "base_uri": "https://localhost:8080/"
        },
        "id": "pDuaAvzHSE0I",
        "outputId": "370c82fd-54a4-4276-a6a8-9582427880c2"
      },
      "execution_count": 7,
      "outputs": [
        {
          "output_type": "stream",
          "name": "stdout",
          "text": [
            "Full Tensor (filled with 5):\n",
            " tensor([[5, 5, 5],\n",
            "        [5, 5, 5]])\n"
          ]
        }
      ]
    },
    {
      "cell_type": "code",
      "source": [
        "# ---------------------------\n",
        "# 2. Tensor Operations\n",
        "# ---------------------------\n",
        "print(\"\\n=== 2. Tensor Operations ===\")"
      ],
      "metadata": {
        "colab": {
          "base_uri": "https://localhost:8080/"
        },
        "id": "f7ZlS5saSKUr",
        "outputId": "8205bff4-fa94-4c95-9bbf-733468087495"
      },
      "execution_count": 8,
      "outputs": [
        {
          "output_type": "stream",
          "name": "stdout",
          "text": [
            "\n",
            "=== 2. Tensor Operations ===\n"
          ]
        }
      ]
    },
    {
      "cell_type": "code",
      "source": [
        "# I have performed arithmetic operations like addition and multiplication.\n",
        "x = torch.tensor([1.0, 2.0, 3.0])\n",
        "y = torch.tensor([4.0, 5.0, 6.0])\n",
        "addition = x + y\n",
        "multiplication = x * y\n",
        "print(\"Addition:\", addition)\n",
        "print(\"Element-wise Multiplication:\", multiplication)"
      ],
      "metadata": {
        "colab": {
          "base_uri": "https://localhost:8080/"
        },
        "id": "I4jbJ8s6SO7N",
        "outputId": "9679c48d-8084-43f0-c41a-b8e5fc22b0c0"
      },
      "execution_count": 9,
      "outputs": [
        {
          "output_type": "stream",
          "name": "stdout",
          "text": [
            "Addition: tensor([5., 7., 9.])\n",
            "Element-wise Multiplication: tensor([ 4., 10., 18.])\n"
          ]
        }
      ]
    },
    {
      "cell_type": "code",
      "source": [
        "# I have performed matrix multiplication using `torch.matmul`.\n",
        "matrix1 = torch.randn(2, 3)\n",
        "matrix2 = torch.randn(3, 4)\n",
        "matmul_result = torch.matmul(matrix1, matrix2)\n",
        "print(\"Matrix Multiplication Result:\\n\", matmul_result)"
      ],
      "metadata": {
        "colab": {
          "base_uri": "https://localhost:8080/"
        },
        "id": "1K8Pd0ZvSSIl",
        "outputId": "9f01dd2e-97df-4250-fb01-8afc57c7de19"
      },
      "execution_count": 10,
      "outputs": [
        {
          "output_type": "stream",
          "name": "stdout",
          "text": [
            "Matrix Multiplication Result:\n",
            " tensor([[ 0.4236, -0.2747, -0.2454, -2.4199],\n",
            "        [-1.7167, -0.4718, -0.6781,  1.8627]])\n"
          ]
        }
      ]
    },
    {
      "cell_type": "code",
      "source": [
        "# I have performed matrix multiplication using `torch.matmul`.\n",
        "matrix1 = torch.randn(2, 3)\n",
        "matrix2 = torch.randn(3, 4)\n",
        "matmul_result = torch.matmul(matrix1, matrix2)\n",
        "print(\"Matrix Multiplication Result:\\n\", matmul_result)"
      ],
      "metadata": {
        "colab": {
          "base_uri": "https://localhost:8080/"
        },
        "id": "MR8X_eWQSVP6",
        "outputId": "9ef59fe8-8ca2-46c5-9e17-df1160c20dbf"
      },
      "execution_count": 11,
      "outputs": [
        {
          "output_type": "stream",
          "name": "stdout",
          "text": [
            "Matrix Multiplication Result:\n",
            " tensor([[ 0.5320, -0.2741, -0.2659, -0.4926],\n",
            "        [ 0.6934, -1.0684,  2.0202,  3.2201]])\n"
          ]
        }
      ]
    },
    {
      "cell_type": "code",
      "source": [
        "# I have concatenated tensors along rows and stacked them along a new dimension.\n",
        "t1 = torch.tensor([[1, 2], [3, 4]])\n",
        "t2 = torch.tensor([[5, 6], [7, 8]])\n",
        "concatenated = torch.cat((t1, t2), dim=0)  # Concatenate along rows\n",
        "stacked = torch.stack((t1, t2), dim=0)  # Stack along a new dimension\n",
        "print(\"Concatenated Tensor:\\n\", concatenated)\n",
        "print(\"Stacked Tensor:\\n\", stacked)"
      ],
      "metadata": {
        "colab": {
          "base_uri": "https://localhost:8080/"
        },
        "id": "NmFAxGjHSYL1",
        "outputId": "aeccb4b4-71bc-438a-ce04-71af060a48f2"
      },
      "execution_count": 12,
      "outputs": [
        {
          "output_type": "stream",
          "name": "stdout",
          "text": [
            "Concatenated Tensor:\n",
            " tensor([[1, 2],\n",
            "        [3, 4],\n",
            "        [5, 6],\n",
            "        [7, 8]])\n",
            "Stacked Tensor:\n",
            " tensor([[[1, 2],\n",
            "         [3, 4]],\n",
            "\n",
            "        [[5, 6],\n",
            "         [7, 8]]])\n"
          ]
        }
      ]
    },
    {
      "cell_type": "code",
      "source": [
        "# I have demonstrated broadcasting by adding a scalar-like tensor to a vector.\n",
        "b = torch.tensor([1, 2, 3])\n",
        "c = torch.tensor([10])  # Scalar-like tensor\n",
        "broadcasted = b + c  # Add scalar-like tensor to vector\n",
        "print(\"Broadcasted Addition:\", broadcasted)"
      ],
      "metadata": {
        "colab": {
          "base_uri": "https://localhost:8080/"
        },
        "id": "WcfS2sI0SbBd",
        "outputId": "e6a22432-d1af-479b-c265-a644e386a4e9"
      },
      "execution_count": 13,
      "outputs": [
        {
          "output_type": "stream",
          "name": "stdout",
          "text": [
            "Broadcasted Addition: tensor([11, 12, 13])\n"
          ]
        }
      ]
    },
    {
      "cell_type": "code",
      "source": [
        "# I have applied element-wise mathematical functions like exp, log, and sqrt.\n",
        "exp_tensor = torch.exp(random_uniform)  # Exponential function\n",
        "log_tensor = torch.log(torch.abs(random_normal))  # Logarithmic function (avoid log(0))\n",
        "sqrt_tensor = torch.sqrt(torch.abs(random_uniform))  # Square root function\n",
        "print(\"Exponential Tensor:\\n\", exp_tensor)\n",
        "print(\"Logarithmic Tensor:\\n\", log_tensor)\n",
        "print(\"Square Root Tensor:\\n\", sqrt_tensor)"
      ],
      "metadata": {
        "colab": {
          "base_uri": "https://localhost:8080/"
        },
        "id": "trfSYh7-Sddq",
        "outputId": "c7243206-e67b-4091-cced-3793db292eb7"
      },
      "execution_count": 14,
      "outputs": [
        {
          "output_type": "stream",
          "name": "stdout",
          "text": [
            "Exponential Tensor:\n",
            " tensor([[2.4584, 1.2318, 2.3431],\n",
            "        [1.1787, 1.4562, 1.8595]])\n",
            "Logarithmic Tensor:\n",
            " tensor([[ 0.5453, -0.4849,  0.3686],\n",
            "        [-0.4298, -1.1836, -1.4750]])\n",
            "Square Root Tensor:\n",
            " tensor([[0.9484, 0.4566, 0.9228],\n",
            "        [0.4055, 0.6131, 0.7876]])\n"
          ]
        }
      ]
    },
    {
      "cell_type": "code",
      "source": [
        "# I have computed reduction operations like sum, mean, and max.\n",
        "sum_result = random_uniform.sum()\n",
        "mean_result = random_uniform.mean()\n",
        "max_result = random_uniform.max()\n",
        "print(\"Sum:\", sum_result)\n",
        "print(\"Mean:\", mean_result)\n",
        "print(\"Max:\", max_result)"
      ],
      "metadata": {
        "colab": {
          "base_uri": "https://localhost:8080/"
        },
        "id": "-wKwAWgbSgoe",
        "outputId": "245de1f1-47ac-471f-f0f0-c777a8bec102"
      },
      "execution_count": 15,
      "outputs": [
        {
          "output_type": "stream",
          "name": "stdout",
          "text": [
            "Sum: tensor(3.1200)\n",
            "Mean: tensor(0.5200)\n",
            "Max: tensor(0.8995)\n"
          ]
        }
      ]
    },
    {
      "cell_type": "code",
      "source": [
        "# ---------------------------\n",
        "# 3. Indexing and Slicing\n",
        "# ---------------------------\n",
        "print(\"\\n=== 3. Indexing and Slicing ===\")\n"
      ],
      "metadata": {
        "colab": {
          "base_uri": "https://localhost:8080/"
        },
        "id": "BW1n1usDSkVi",
        "outputId": "76294464-1044-49d6-f61d-433dc5792213"
      },
      "execution_count": 16,
      "outputs": [
        {
          "output_type": "stream",
          "name": "stdout",
          "text": [
            "\n",
            "=== 3. Indexing and Slicing ===\n"
          ]
        }
      ]
    },
    {
      "cell_type": "code",
      "source": [
        "# I have indexed and sliced tensors to access specific elements, rows, and columns.\n",
        "tensor = torch.tensor([[1, 2, 3], [4, 5, 6], [7, 8, 9]])\n",
        "print(\"Original Tensor:\\n\", tensor)\n",
        "print(\"First Row:\", tensor[0])  # First row\n",
        "print(\"Second Column:\", tensor[:, 1])  # Second column\n",
        "print(\"Sub-tensor:\\n\", tensor[1:, :2])  # Rows 1 and 2, Columns 0 and 1"
      ],
      "metadata": {
        "colab": {
          "base_uri": "https://localhost:8080/"
        },
        "id": "IE3AKEKtSnwN",
        "outputId": "649da4ac-bd70-4a2d-f60d-5e88d612ff83"
      },
      "execution_count": 17,
      "outputs": [
        {
          "output_type": "stream",
          "name": "stdout",
          "text": [
            "Original Tensor:\n",
            " tensor([[1, 2, 3],\n",
            "        [4, 5, 6],\n",
            "        [7, 8, 9]])\n",
            "First Row: tensor([1, 2, 3])\n",
            "Second Column: tensor([2, 5, 8])\n",
            "Sub-tensor:\n",
            " tensor([[4, 5],\n",
            "        [7, 8]])\n"
          ]
        }
      ]
    },
    {
      "cell_type": "code",
      "source": [
        "# I have used advanced indexing techniques like `torch.index_select` and `torch.gather`.\n",
        "indices = torch.tensor([0, 2])  # Indices to select\n",
        "selected_rows = torch.index_select(tensor, dim=0, index=indices)  # Select specific rows\n",
        "print(\"Selected Rows (using index_select):\\n\", selected_rows)\n",
        "gathered_elements = torch.gather(tensor, dim=1, index=torch.tensor([[0, 2], [1, 2], [0, 1]]))\n",
        "print(\"Gathered Elements (using gather):\\n\", gathered_elements)\n"
      ],
      "metadata": {
        "colab": {
          "base_uri": "https://localhost:8080/"
        },
        "id": "Axby7wyySrBm",
        "outputId": "a5db29b9-829a-4c6b-ad46-ae63142219d5"
      },
      "execution_count": 18,
      "outputs": [
        {
          "output_type": "stream",
          "name": "stdout",
          "text": [
            "Selected Rows (using index_select):\n",
            " tensor([[1, 2, 3],\n",
            "        [7, 8, 9]])\n",
            "Gathered Elements (using gather):\n",
            " tensor([[1, 3],\n",
            "        [5, 6],\n",
            "        [7, 8]])\n"
          ]
        }
      ]
    },
    {
      "cell_type": "code",
      "source": [
        "#---------------------------\n",
        "# 4. Boolean Masking and Comparison\n",
        "# ---------------------------\n",
        "print(\"\\n=== 4. Boolean Masking and Comparison ===\")"
      ],
      "metadata": {
        "colab": {
          "base_uri": "https://localhost:8080/"
        },
        "id": "RISKZdppSv6_",
        "outputId": "c134a5cf-9f94-415e-fdb1-86c2a199a2b5"
      },
      "execution_count": 22,
      "outputs": [
        {
          "output_type": "stream",
          "name": "stdout",
          "text": [
            "\n",
            "=== 4. Boolean Masking and Comparison ===\n"
          ]
        }
      ]
    },
    {
      "cell_type": "code",
      "source": [
        "# I have compared tensors using comparison operators like `>`.\n",
        "comparison = random_uniform > 0.5\n",
        "print(\"Comparison Tensor (values > 0.5):\\n\", comparison)"
      ],
      "metadata": {
        "colab": {
          "base_uri": "https://localhost:8080/"
        },
        "id": "6ed1r_E0S2D1",
        "outputId": "4716e8d8-330f-425d-cb7e-236272509968"
      },
      "execution_count": 23,
      "outputs": [
        {
          "output_type": "stream",
          "name": "stdout",
          "text": [
            "Comparison Tensor (values > 0.5):\n",
            " tensor([[ True, False,  True],\n",
            "        [False, False,  True]])\n"
          ]
        }
      ]
    },
    {
      "cell_type": "code",
      "source": [
        "# I have applied boolean masking to filter tensor values.\n",
        "masked_values = random_uniform[comparison]\n",
        "print(\"Masked Values (values > 0.5):\", masked_values)\n"
      ],
      "metadata": {
        "colab": {
          "base_uri": "https://localhost:8080/"
        },
        "id": "enonItU_TEAP",
        "outputId": "c2a4d9d9-283e-4acc-ab2d-97621f22b8c2"
      },
      "execution_count": 24,
      "outputs": [
        {
          "output_type": "stream",
          "name": "stdout",
          "text": [
            "Masked Values (values > 0.5): tensor([0.8995, 0.8515, 0.6203])\n"
          ]
        }
      ]
    },
    {
      "cell_type": "code",
      "source": [
        "# I have used logical operations like AND, OR, and NOT on boolean tensors.\n",
        "logical_and = torch.logical_and(torch.tensor([True, False, True]), torch.tensor([False, False, True]))\n",
        "logical_or = torch.logical_or(torch.tensor([True, False, True]), torch.tensor([False, False, True]))\n",
        "logical_not = torch.logical_not(torch.tensor([True, False, True]))\n",
        "print(\"Logical AND:\", logical_and)\n",
        "print(\"Logical OR:\", logical_or)\n",
        "print(\"Logical NOT:\", logical_not)"
      ],
      "metadata": {
        "colab": {
          "base_uri": "https://localhost:8080/"
        },
        "id": "PLIQ7cq0TH1f",
        "outputId": "6ebbdeb2-6bcf-4402-9bba-bb54dae6807d"
      },
      "execution_count": 25,
      "outputs": [
        {
          "output_type": "stream",
          "name": "stdout",
          "text": [
            "Logical AND: tensor([False, False,  True])\n",
            "Logical OR: tensor([ True, False,  True])\n",
            "Logical NOT: tensor([False,  True, False])\n"
          ]
        }
      ]
    },
    {
      "cell_type": "code",
      "source": [
        "# ---------------------------\n",
        "# 5. Sorting and Top-k Elements\n",
        "# ---------------------------\n",
        "print(\"\\n=== 5. Sorting and Top-k Elements ===\")"
      ],
      "metadata": {
        "colab": {
          "base_uri": "https://localhost:8080/"
        },
        "id": "AL3acAtLTK0n",
        "outputId": "822dcee9-8945-4fda-aca8-6294a5420b96"
      },
      "execution_count": 26,
      "outputs": [
        {
          "output_type": "stream",
          "name": "stdout",
          "text": [
            "\n",
            "=== 5. Sorting and Top-k Elements ===\n"
          ]
        }
      ]
    },
    {
      "cell_type": "code",
      "source": [
        "# I have sorted tensors using `torch.sort`.\n",
        "sorted_tensor, indices = torch.sort(random_uniform, dim=1, descending=True)\n",
        "print(\"Sorted Tensor:\\n\", sorted_tensor)"
      ],
      "metadata": {
        "colab": {
          "base_uri": "https://localhost:8080/"
        },
        "id": "YNj_dopQTPtq",
        "outputId": "887bc507-7b37-427d-834b-ce6fb49e2d98"
      },
      "execution_count": 27,
      "outputs": [
        {
          "output_type": "stream",
          "name": "stdout",
          "text": [
            "Sorted Tensor:\n",
            " tensor([[0.8995, 0.8515, 0.2085],\n",
            "        [0.6203, 0.3759, 0.1644]])\n"
          ]
        }
      ]
    },
    {
      "cell_type": "code",
      "source": [
        "# I have found the top-k elements in a tensor using `torch.topk`.\n",
        "topk_values, topk_indices = torch.topk(random_uniform, k=2, dim=1)\n",
        "print(\"Top-2 Values:\\n\", topk_values)\n",
        "print(\"Top-2 Indices:\\n\", topk_indices)\n"
      ],
      "metadata": {
        "colab": {
          "base_uri": "https://localhost:8080/"
        },
        "id": "QmXzPr0UTSg7",
        "outputId": "14de1fd0-7f8e-409d-baa9-2c27894e3292"
      },
      "execution_count": 28,
      "outputs": [
        {
          "output_type": "stream",
          "name": "stdout",
          "text": [
            "Top-2 Values:\n",
            " tensor([[0.8995, 0.8515],\n",
            "        [0.6203, 0.3759]])\n",
            "Top-2 Indices:\n",
            " tensor([[0, 2],\n",
            "        [2, 1]])\n"
          ]
        }
      ]
    },
    {
      "cell_type": "code",
      "source": [
        "# ---------------------------\n",
        "# 6. Padding and Splitting\n",
        "# ---------------------------\n",
        "print(\"\\n=== 6. Padding and Splitting ===\")"
      ],
      "metadata": {
        "colab": {
          "base_uri": "https://localhost:8080/"
        },
        "id": "B5EzHDt6TVhl",
        "outputId": "be212c42-3f01-4fab-def9-9dff6737ced2"
      },
      "execution_count": 29,
      "outputs": [
        {
          "output_type": "stream",
          "name": "stdout",
          "text": [
            "\n",
            "=== 6. Padding and Splitting ===\n"
          ]
        }
      ]
    },
    {
      "cell_type": "code",
      "source": [
        "# I have added padding to a tensor using `torch.nn.functional.pad`.\n",
        "padded_tensor = torch.nn.functional.pad(tensor, pad=(1, 1, 1, 1), mode='constant', value=0)\n",
        "print(\"Padded Tensor:\\n\", padded_tensor)"
      ],
      "metadata": {
        "colab": {
          "base_uri": "https://localhost:8080/"
        },
        "id": "kP9dAMK4TYZd",
        "outputId": "81422165-256a-4643-8569-9a93d0ee90a2"
      },
      "execution_count": 30,
      "outputs": [
        {
          "output_type": "stream",
          "name": "stdout",
          "text": [
            "Padded Tensor:\n",
            " tensor([[0, 0, 0, 0, 0],\n",
            "        [0, 1, 2, 3, 0],\n",
            "        [0, 4, 5, 6, 0],\n",
            "        [0, 7, 8, 9, 0],\n",
            "        [0, 0, 0, 0, 0]])\n"
          ]
        }
      ]
    },
    {
      "cell_type": "code",
      "source": [
        "# I have split a tensor into smaller chunks using `torch.split`.\n",
        "split_tensors = torch.split(tensor, split_size_or_sections=1, dim=0)\n",
        "print(\"Split Tensors:\")\n",
        "for i, t in enumerate(split_tensors):\n",
        "    print(f\"Chunk {i}:\\n\", t)"
      ],
      "metadata": {
        "colab": {
          "base_uri": "https://localhost:8080/"
        },
        "id": "8zCXmNq-Ta7j",
        "outputId": "dcc986a9-b8e3-4f4c-df7c-1e07c644ab64"
      },
      "execution_count": 31,
      "outputs": [
        {
          "output_type": "stream",
          "name": "stdout",
          "text": [
            "Split Tensors:\n",
            "Chunk 0:\n",
            " tensor([[1, 2, 3]])\n",
            "Chunk 1:\n",
            " tensor([[4, 5, 6]])\n",
            "Chunk 2:\n",
            " tensor([[7, 8, 9]])\n"
          ]
        }
      ]
    },
    {
      "cell_type": "code",
      "source": [
        "# ---------------------------\n",
        "# 7. Special Functions and Transformations\n",
        "# ---------------------------\n",
        "print(\"\\n=== 7. Special Functions and Transformations ===\")\n"
      ],
      "metadata": {
        "colab": {
          "base_uri": "https://localhost:8080/"
        },
        "id": "XKoAGbf8Tdm4",
        "outputId": "26ded86e-d2ff-4995-b3a6-e6cbe12b0ad0"
      },
      "execution_count": 32,
      "outputs": [
        {
          "output_type": "stream",
          "name": "stdout",
          "text": [
            "\n",
            "=== 7. Special Functions and Transformations ===\n"
          ]
        }
      ]
    },
    {
      "cell_type": "code",
      "source": [
        "# I have applied trigonometric functions like sin, cos, and tanh to tensors.\n",
        "sin_tensor = torch.sin(random_uniform)\n",
        "cos_tensor = torch.cos(random_uniform)\n",
        "tanh_tensor = torch.tanh(random_uniform)\n",
        "print(\"Sine Tensor:\\n\", sin_tensor)\n",
        "print(\"Cosine Tensor:\\n\", cos_tensor)\n",
        "print(\"Hyperbolic Tangent Tensor:\\n\", tanh_tensor)"
      ],
      "metadata": {
        "colab": {
          "base_uri": "https://localhost:8080/"
        },
        "id": "gEaXasTBThIV",
        "outputId": "0ef354d6-7895-4e8a-80aa-62037bd42a6f"
      },
      "execution_count": 33,
      "outputs": [
        {
          "output_type": "stream",
          "name": "stdout",
          "text": [
            "Sine Tensor:\n",
            " tensor([[0.7830, 0.2070, 0.7523],\n",
            "        [0.1637, 0.3671, 0.5813]])\n",
            "Cosine Tensor:\n",
            " tensor([[0.6220, 0.9783, 0.6589],\n",
            "        [0.9865, 0.9302, 0.8137]])\n",
            "Hyperbolic Tangent Tensor:\n",
            " tensor([[0.7161, 0.2055, 0.6918],\n",
            "        [0.1629, 0.3591, 0.5513]])\n"
          ]
        }
      ]
    },
    {
      "cell_type": "code",
      "source": [
        "# I have permuted and transposed tensor dimensions using `tensor.permute` and `tensor.transpose`.\n",
        "permuted_tensor = tensor.permute(1, 0)  # Swap dimensions\n",
        "transposed_tensor = tensor.transpose(0, 1)  # Transpose dimensions\n",
        "print(\"Permuted Tensor:\\n\", permuted_tensor)\n",
        "print(\"Transposed Tensor:\\n\", transposed_tensor)"
      ],
      "metadata": {
        "colab": {
          "base_uri": "https://localhost:8080/"
        },
        "id": "ICvECFioTkAl",
        "outputId": "56653c29-76fa-40c9-c0e2-51a1eda882cc"
      },
      "execution_count": 34,
      "outputs": [
        {
          "output_type": "stream",
          "name": "stdout",
          "text": [
            "Permuted Tensor:\n",
            " tensor([[1, 4, 7],\n",
            "        [2, 5, 8],\n",
            "        [3, 6, 9]])\n",
            "Transposed Tensor:\n",
            " tensor([[1, 4, 7],\n",
            "        [2, 5, 8],\n",
            "        [3, 6, 9]])\n"
          ]
        }
      ]
    },
    {
      "cell_type": "code",
      "source": [
        "# I have clamped tensor values within a specified range using `torch.clamp`.\n",
        "clamped_tensor = random_uniform.clamp(min=0.2, max=0.8)\n",
        "print(\"Clamped Tensor (values restricted between 0.2 and 0.8):\\n\", clamped_tensor)\n"
      ],
      "metadata": {
        "colab": {
          "base_uri": "https://localhost:8080/"
        },
        "id": "j69UrIeWTpjS",
        "outputId": "74343289-1306-4eb7-876b-64bec83b9ffa"
      },
      "execution_count": 35,
      "outputs": [
        {
          "output_type": "stream",
          "name": "stdout",
          "text": [
            "Clamped Tensor (values restricted between 0.2 and 0.8):\n",
            " tensor([[0.8000, 0.2085, 0.8000],\n",
            "        [0.2000, 0.3759, 0.6203]])\n"
          ]
        }
      ]
    },
    {
      "cell_type": "code",
      "source": [
        "# ---------------------------\n",
        "# 8. Type Conversion and Device Management\n",
        "# ---------------------------\n",
        "print(\"\\n=== 8. Type Conversion and Device Management ===\")\n"
      ],
      "metadata": {
        "colab": {
          "base_uri": "https://localhost:8080/"
        },
        "id": "63Dm9IPeTsMp",
        "outputId": "f7ba28e3-f0c2-4baf-bca9-d25a7c354859"
      },
      "execution_count": 36,
      "outputs": [
        {
          "output_type": "stream",
          "name": "stdout",
          "text": [
            "\n",
            "=== 8. Type Conversion and Device Management ===\n"
          ]
        }
      ]
    },
    {
      "cell_type": "code",
      "source": [
        "# I have converted a tensor's data type using `tensor.to`.\n",
        "float_tensor = torch.tensor([1.0, 2.0, 3.0])\n",
        "int_tensor = float_tensor.to(torch.int32)\n",
        "print(\"Float Tensor:\", float_tensor)\n",
        "print(\"Converted to Int Tensor:\", int_tensor)"
      ],
      "metadata": {
        "colab": {
          "base_uri": "https://localhost:8080/"
        },
        "id": "y5-aVPs6TuQN",
        "outputId": "116b90a6-3f1f-429f-9378-967e6ed78cc7"
      },
      "execution_count": 37,
      "outputs": [
        {
          "output_type": "stream",
          "name": "stdout",
          "text": [
            "Float Tensor: tensor([1., 2., 3.])\n",
            "Converted to Int Tensor: tensor([1, 2, 3], dtype=torch.int32)\n"
          ]
        }
      ]
    },
    {
      "cell_type": "code",
      "source": [
        "# I have moved a tensor to GPU if CUDA is available using `tensor.to(device)`.\n",
        "if torch.cuda.is_available():\n",
        "    device = torch.device(\"cuda\")\n",
        "    tensor_on_gpu = random_uniform.to(device)\n",
        "    print(\"Tensor moved to GPU:\", tensor_on_gpu)\n",
        "else:\n",
        "    print(\"GPU not available, skipping device management.\")"
      ],
      "metadata": {
        "colab": {
          "base_uri": "https://localhost:8080/"
        },
        "id": "GH2XzrPtTxe7",
        "outputId": "01c48a0d-f7b6-44ea-a402-0484d40a1559"
      },
      "execution_count": 38,
      "outputs": [
        {
          "output_type": "stream",
          "name": "stdout",
          "text": [
            "GPU not available, skipping device management.\n"
          ]
        }
      ]
    },
    {
      "cell_type": "code",
      "source": [
        "# ---------------------------\n",
        "# 9. Miscellaneous Features\n",
        "# ---------------------------\n",
        "print(\"\\n=== 9. Miscellaneous Features ===\")"
      ],
      "metadata": {
        "colab": {
          "base_uri": "https://localhost:8080/"
        },
        "id": "mVSn_e5PT0yD",
        "outputId": "115b4ec4-f917-4f1b-9b5b-2a3f2bb15506"
      },
      "execution_count": 39,
      "outputs": [
        {
          "output_type": "stream",
          "name": "stdout",
          "text": [
            "\n",
            "=== 9. Miscellaneous Features ===\n"
          ]
        }
      ]
    },
    {
      "cell_type": "code",
      "source": [
        "# I have computed cumulative sums and products using `torch.cumsum` and `torch.cumprod`.\n",
        "cumsum_tensor = torch.cumsum(random_uniform, dim=1)\n",
        "cumprod_tensor = torch.cumprod(random_uniform, dim=1)\n",
        "print(\"Cumulative Sum:\\n\", cumsum_tensor)\n",
        "print(\"Cumulative Product:\\n\", cumprod_tensor)"
      ],
      "metadata": {
        "colab": {
          "base_uri": "https://localhost:8080/"
        },
        "id": "gIEsGqWgT8Bb",
        "outputId": "e171baa3-3f91-4fd1-b1af-badefaa0ac1d"
      },
      "execution_count": 40,
      "outputs": [
        {
          "output_type": "stream",
          "name": "stdout",
          "text": [
            "Cumulative Sum:\n",
            " tensor([[0.8995, 1.1080, 1.9595],\n",
            "        [0.1644, 0.5403, 1.1606]])\n",
            "Cumulative Product:\n",
            " tensor([[0.8995, 0.1875, 0.1597],\n",
            "        [0.1644, 0.0618, 0.0383]])\n"
          ]
        }
      ]
    },
    {
      "cell_type": "code",
      "source": [
        "# I have found unique values and their counts using `torch.unique`.\n",
        "unique_values, counts = torch.unique(tensor, return_counts=True)\n",
        "print(\"Unique Values in Tensor:\", unique_values)\n",
        "print(\"Counts of Unique Values:\", counts)\n"
      ],
      "metadata": {
        "colab": {
          "base_uri": "https://localhost:8080/"
        },
        "id": "Zpen3fPfUBn8",
        "outputId": "efeb0770-fefb-4c07-be3c-aeb9188a919a"
      },
      "execution_count": 41,
      "outputs": [
        {
          "output_type": "stream",
          "name": "stdout",
          "text": [
            "Unique Values in Tensor: tensor([1, 2, 3, 4, 5, 6, 7, 8, 9])\n",
            "Counts of Unique Values: tensor([1, 1, 1, 1, 1, 1, 1, 1, 1])\n"
          ]
        }
      ]
    },
    {
      "cell_type": "code",
      "source": [
        "# I have computed the outer product of two tensors using `torch.outer`.\n",
        "outer_product = torch.outer(x, y)\n",
        "print(\"Outer Product of Tensors:\\n\", outer_product)\n"
      ],
      "metadata": {
        "colab": {
          "base_uri": "https://localhost:8080/"
        },
        "id": "fh9smPh6UGlk",
        "outputId": "d97b7f31-3753-4ec6-fbae-22cf47b75970"
      },
      "execution_count": 42,
      "outputs": [
        {
          "output_type": "stream",
          "name": "stdout",
          "text": [
            "Outer Product of Tensors:\n",
            " tensor([[ 4.,  5.,  6.],\n",
            "        [ 8., 10., 12.],\n",
            "        [12., 15., 18.]])\n"
          ]
        }
      ]
    },
    {
      "cell_type": "code",
      "source": [
        "# I have found the indices of maximum and minimum values using `torch.argmax` and `torch.argmin`.\n",
        "argmax_value = torch.argmax(tensor)\n",
        "argmin_value = torch.argmin(tensor)\n",
        "print(\"Index of Maximum Value:\", argmax_value)\n",
        "print(\"Index of Minimum Value:\", argmin_value)\n"
      ],
      "metadata": {
        "colab": {
          "base_uri": "https://localhost:8080/"
        },
        "id": "t6COgrE4ULQo",
        "outputId": "ce551d42-6577-4038-8f3d-5a8939aa1360"
      },
      "execution_count": 43,
      "outputs": [
        {
          "output_type": "stream",
          "name": "stdout",
          "text": [
            "Index of Maximum Value: tensor(8)\n",
            "Index of Minimum Value: tensor(0)\n"
          ]
        }
      ]
    },
    {
      "cell_type": "code",
      "source": [
        "# I have found the indices of maximum and minimum values using `torch.argmax` and `torch.argmin`.\n",
        "argmax_value = torch.argmax(tensor)\n",
        "argmin_value = torch.argmin(tensor)\n",
        "print(\"Index of Maximum Value:\", argmax_value)\n",
        "print(\"Index of Minimum Value:\", argmin_value)\n"
      ],
      "metadata": {
        "colab": {
          "base_uri": "https://localhost:8080/"
        },
        "id": "x3wJJ7oKUOSl",
        "outputId": "d8a25b35-64ac-46f3-c5e4-af4ff6179d35"
      },
      "execution_count": 44,
      "outputs": [
        {
          "output_type": "stream",
          "name": "stdout",
          "text": [
            "Index of Maximum Value: tensor(8)\n",
            "Index of Minimum Value: tensor(0)\n"
          ]
        }
      ]
    },
    {
      "cell_type": "code",
      "source": [
        "# I have created and manipulated sparse tensors using `torch.sparse_coo_tensor`.\n",
        "indices = torch.tensor([[0, 1, 1], [2, 0, 2]])\n",
        "values = torch.tensor([3, 4, 5], dtype=torch.float32)\n",
        "sparse_tensor = torch.sparse_coo_tensor(indices, values, size=(2, 3))\n",
        "dense_tensor = sparse_tensor.to_dense()\n",
        "print(\"Sparse Tensor (COO format):\\n\", sparse_tensor)\n",
        "print(\"Dense Tensor from Sparse Tensor:\\n\", dense_tensor)\n"
      ],
      "metadata": {
        "colab": {
          "base_uri": "https://localhost:8080/"
        },
        "id": "8OJBD2M1UQpj",
        "outputId": "eb398862-01c1-4ab7-ad41-443183d8f9bb"
      },
      "execution_count": 45,
      "outputs": [
        {
          "output_type": "stream",
          "name": "stdout",
          "text": [
            "Sparse Tensor (COO format):\n",
            " tensor(indices=tensor([[0, 1, 1],\n",
            "                       [2, 0, 2]]),\n",
            "       values=tensor([3., 4., 5.]),\n",
            "       size=(2, 3), nnz=3, layout=torch.sparse_coo)\n",
            "Dense Tensor from Sparse Tensor:\n",
            " tensor([[0., 0., 3.],\n",
            "        [4., 0., 5.]])\n"
          ]
        }
      ]
    },
    {
      "cell_type": "code",
      "source": [
        "# I have demonstrated tensor broadcasting rules by adding tensors of different shapes.\n",
        "broadcast_tensor = torch.tensor([[1, 2, 3]])  # Shape: (1, 3)\n",
        "broadcasted_result = broadcast_tensor + torch.tensor([10, 20, 30])  # Shape: (3,)\n",
        "print(\"Broadcasted Tensor:\\n\", broadcasted_result)"
      ],
      "metadata": {
        "colab": {
          "base_uri": "https://localhost:8080/"
        },
        "id": "l9Lh_9lCU9p5",
        "outputId": "19545c7f-767e-47ea-89a7-673cf1a5c1fa"
      },
      "execution_count": 46,
      "outputs": [
        {
          "output_type": "stream",
          "name": "stdout",
          "text": [
            "Broadcasted Tensor:\n",
            " tensor([[11, 22, 33]])\n"
          ]
        }
      ]
    },
    {
      "cell_type": "code",
      "source": [
        "# I have normalized a tensor along a dimension using `torch.nn.functional.normalize`.\n",
        "normalized_tensor = torch.nn.functional.normalize(random_uniform, p=2, dim=1)  # L2 normalization\n",
        "print(\"Normalized Tensor:\\n\", normalized_tensor)\n"
      ],
      "metadata": {
        "colab": {
          "base_uri": "https://localhost:8080/"
        },
        "id": "fH3ynQkHVCr0",
        "outputId": "557f694e-203b-4566-bb54-431a3927ea1a"
      },
      "execution_count": 47,
      "outputs": [
        {
          "output_type": "stream",
          "name": "stdout",
          "text": [
            "Normalized Tensor:\n",
            " tensor([[0.7161, 0.1660, 0.6779],\n",
            "        [0.2211, 0.5054, 0.8341]])\n"
          ]
        }
      ]
    },
    {
      "cell_type": "code",
      "source": [
        "# I have one-hot encoded categorical labels using `torch.nn.functional.one_hot`.\n",
        "labels = torch.tensor([0, 2, 1])\n",
        "one_hot = torch.nn.functional.one_hot(labels, num_classes=3)\n",
        "print(\"One-hot Encoded Tensor:\\n\", one_hot)\n"
      ],
      "metadata": {
        "colab": {
          "base_uri": "https://localhost:8080/"
        },
        "id": "zpRAh5SnVKfw",
        "outputId": "87db6ec2-342d-4dc3-81db-b78d0dac1774"
      },
      "execution_count": 48,
      "outputs": [
        {
          "output_type": "stream",
          "name": "stdout",
          "text": [
            "One-hot Encoded Tensor:\n",
            " tensor([[1, 0, 0],\n",
            "        [0, 0, 1],\n",
            "        [0, 1, 0]])\n"
          ]
        }
      ]
    },
    {
      "cell_type": "code",
      "source": [
        "# I have handled missing values (NaNs) in a tensor using boolean masks.\n",
        "nan_tensor = torch.tensor([1.0, float('nan'), 3.0])\n",
        "mask = ~torch.isnan(nan_tensor)\n",
        "clean_tensor = nan_tensor[mask]\n",
        "print(\"Tensor with NaNs:\", nan_tensor)\n",
        "print(\"Cleaned Tensor (NaNs removed):\", clean_tensor)\n"
      ],
      "metadata": {
        "colab": {
          "base_uri": "https://localhost:8080/"
        },
        "id": "HpfVAfl3VRk5",
        "outputId": "08e1671a-00ec-4c11-b1f6-3474bd08e4bb"
      },
      "execution_count": 49,
      "outputs": [
        {
          "output_type": "stream",
          "name": "stdout",
          "text": [
            "Tensor with NaNs: tensor([1., nan, 3.])\n",
            "Cleaned Tensor (NaNs removed): tensor([1., 3.])\n"
          ]
        }
      ]
    },
    {
      "cell_type": "code",
      "source": [
        "# I have chunked a tensor into equal-sized pieces using `torch.chunk`.\n",
        "chunked_tensors = torch.chunk(tensor, chunks=3, dim=0)\n",
        "print(\"Chunked Tensors:\")\n",
        "for i, chunk in enumerate(chunked_tensors):\n",
        "    print(f\"Chunk {i}:\\n\", chunk)"
      ],
      "metadata": {
        "colab": {
          "base_uri": "https://localhost:8080/"
        },
        "id": "sOF1goJ0VXqt",
        "outputId": "480221fd-dacc-41f1-e052-7bd12b5a8f52"
      },
      "execution_count": 50,
      "outputs": [
        {
          "output_type": "stream",
          "name": "stdout",
          "text": [
            "Chunked Tensors:\n",
            "Chunk 0:\n",
            " tensor([[1, 2, 3]])\n",
            "Chunk 1:\n",
            " tensor([[4, 5, 6]])\n",
            "Chunk 2:\n",
            " tensor([[7, 8, 9]])\n"
          ]
        }
      ]
    },
    {
      "cell_type": "code",
      "source": [
        "# I have flattened a tensor into a 1D array using `tensor.flatten`.\n",
        "flattened_tensor = tensor.flatten()\n",
        "print(\"Flattened Tensor:\", flattened_tensor)\n"
      ],
      "metadata": {
        "colab": {
          "base_uri": "https://localhost:8080/"
        },
        "id": "OKpcJ2j0VaW6",
        "outputId": "358b4586-0638-41e4-d95e-95eb58f3e36f"
      },
      "execution_count": 51,
      "outputs": [
        {
          "output_type": "stream",
          "name": "stdout",
          "text": [
            "Flattened Tensor: tensor([1, 2, 3, 4, 5, 6, 7, 8, 9])\n"
          ]
        }
      ]
    },
    {
      "cell_type": "code",
      "source": [
        "# I have repeated and tiled a tensor using `tensor.repeat` and `tensor.expand`.\n",
        "repeated_tensor = tensor.repeat(2, 3)  # Repeat tensor along dimensions\n",
        "tiled_tensor = tensor.unsqueeze(0).expand(2, -1, -1)  # Tile tensor\n",
        "print(\"Repeated Tensor:\\n\", repeated_tensor)\n",
        "print(\"Tiled Tensor:\\n\", tiled_tensor)\n"
      ],
      "metadata": {
        "colab": {
          "base_uri": "https://localhost:8080/"
        },
        "id": "1wgQKVpuVcn7",
        "outputId": "fb1da912-e653-43cf-9c45-b6db96905c9b"
      },
      "execution_count": 52,
      "outputs": [
        {
          "output_type": "stream",
          "name": "stdout",
          "text": [
            "Repeated Tensor:\n",
            " tensor([[1, 2, 3, 1, 2, 3, 1, 2, 3],\n",
            "        [4, 5, 6, 4, 5, 6, 4, 5, 6],\n",
            "        [7, 8, 9, 7, 8, 9, 7, 8, 9],\n",
            "        [1, 2, 3, 1, 2, 3, 1, 2, 3],\n",
            "        [4, 5, 6, 4, 5, 6, 4, 5, 6],\n",
            "        [7, 8, 9, 7, 8, 9, 7, 8, 9]])\n",
            "Tiled Tensor:\n",
            " tensor([[[1, 2, 3],\n",
            "         [4, 5, 6],\n",
            "         [7, 8, 9]],\n",
            "\n",
            "        [[1, 2, 3],\n",
            "         [4, 5, 6],\n",
            "         [7, 8, 9]]])\n"
          ]
        }
      ]
    },
    {
      "cell_type": "code",
      "source": [
        "# I have extracted and created diagonal matrices using `torch.diagonal` and `torch.diag_embed`.\n",
        "diagonal = torch.diagonal(tensor)  # Extract diagonal elements\n",
        "print(\"Diagonal of Tensor:\", diagonal)\n",
        "modified_diagonal = tensor.diag_embed()  # Create a diagonal matrix\n",
        "print(\"Diagonal Matrix from Tensor:\\n\", modified_diagonal)\n"
      ],
      "metadata": {
        "colab": {
          "base_uri": "https://localhost:8080/"
        },
        "id": "PHRAqDoBVfab",
        "outputId": "ce5189f5-250f-4d77-c48f-2ac90cb897ca"
      },
      "execution_count": 53,
      "outputs": [
        {
          "output_type": "stream",
          "name": "stdout",
          "text": [
            "Diagonal of Tensor: tensor([1, 5, 9])\n",
            "Diagonal Matrix from Tensor:\n",
            " tensor([[[1, 0, 0],\n",
            "         [0, 2, 0],\n",
            "         [0, 0, 3]],\n",
            "\n",
            "        [[4, 0, 0],\n",
            "         [0, 5, 0],\n",
            "         [0, 0, 6]],\n",
            "\n",
            "        [[7, 0, 0],\n",
            "         [0, 8, 0],\n",
            "         [0, 0, 9]]])\n"
          ]
        }
      ]
    },
    {
      "cell_type": "code",
      "source": [
        "# I have applied conditional operations using `torch.where`.\n",
        "condition = tensor > 5\n",
        "where_tensor = torch.where(condition, tensor, torch.zeros_like(tensor))  # Replace values <= 5 with 0\n",
        "print(\"Tensor after applying `where` function:\\n\", where_tensor)\n"
      ],
      "metadata": {
        "colab": {
          "base_uri": "https://localhost:8080/"
        },
        "id": "qt2SsNebViDx",
        "outputId": "da3fa887-5749-4fda-9fdb-0068442567ed"
      },
      "execution_count": 54,
      "outputs": [
        {
          "output_type": "stream",
          "name": "stdout",
          "text": [
            "Tensor after applying `where` function:\n",
            " tensor([[0, 0, 0],\n",
            "        [0, 0, 6],\n",
            "        [7, 8, 9]])\n"
          ]
        }
      ]
    },
    {
      "cell_type": "code",
      "source": [
        "# I have computed histograms of tensor values using `torch.histc`.\n",
        "histogram = torch.histc(random_uniform, bins=5, min=0, max=1)\n",
        "print(\"Histogram of Tensor Values:\", histogram)"
      ],
      "metadata": {
        "colab": {
          "base_uri": "https://localhost:8080/"
        },
        "id": "RyOvXyhtVkmM",
        "outputId": "3f87ec0f-5437-4503-ee99-4cd74dd98234"
      },
      "execution_count": 55,
      "outputs": [
        {
          "output_type": "stream",
          "name": "stdout",
          "text": [
            "Histogram of Tensor Values: tensor([1., 2., 0., 1., 2.])\n"
          ]
        }
      ]
    },
    {
      "cell_type": "code",
      "source": [
        "# I have created coordinate grids using `torch.meshgrid`.\n",
        "x = torch.linspace(0, 1, 3)\n",
        "y = torch.linspace(0, 1, 3)\n",
        "grid_x, grid_y = torch.meshgrid(x, y, indexing='ij')\n",
        "print(\"Meshgrid X:\\n\", grid_x)\n",
        "print(\"Meshgrid Y:\\n\", grid_y)"
      ],
      "metadata": {
        "colab": {
          "base_uri": "https://localhost:8080/"
        },
        "id": "UOLp96H-Vq9F",
        "outputId": "91bf4c34-bf07-486f-b42a-4d0eac579618"
      },
      "execution_count": 56,
      "outputs": [
        {
          "output_type": "stream",
          "name": "stdout",
          "text": [
            "Meshgrid X:\n",
            " tensor([[0.0000, 0.0000, 0.0000],\n",
            "        [0.5000, 0.5000, 0.5000],\n",
            "        [1.0000, 1.0000, 1.0000]])\n",
            "Meshgrid Y:\n",
            " tensor([[0.0000, 0.5000, 1.0000],\n",
            "        [0.0000, 0.5000, 1.0000],\n",
            "        [0.0000, 0.5000, 1.0000]])\n"
          ]
        }
      ]
    },
    {
      "cell_type": "code",
      "source": [
        "# I have performed Einstein summation using `torch.einsum`.\n",
        "a = torch.tensor([[1, 2], [3, 4]])\n",
        "b = torch.tensor([[5, 6], [7, 8]])\n",
        "einsum_result = torch.einsum('ij,jk->ik', a, b)  # Matrix multiplication\n",
        "print(\"Einsum Result (Matrix Multiplication):\\n\", einsum_result)\n"
      ],
      "metadata": {
        "colab": {
          "base_uri": "https://localhost:8080/"
        },
        "id": "GlCew57LVtEK",
        "outputId": "d258ba6c-8640-41ec-801d-6ac3c104fedd"
      },
      "execution_count": 57,
      "outputs": [
        {
          "output_type": "stream",
          "name": "stdout",
          "text": [
            "Einsum Result (Matrix Multiplication):\n",
            " tensor([[19, 22],\n",
            "        [43, 50]])\n"
          ]
        }
      ]
    },
    {
      "cell_type": "code",
      "source": [
        "# I have scattered values into a tensor at specified indices using `tensor.scatter`.\n",
        "scatter_tensor = torch.zeros(3, 5, dtype=torch.int64)  # Ensure dtype matches `values`\n",
        "indices = torch.tensor([[0, 1, 2], [0, 1, 4]])\n",
        "values = torch.tensor([[1, 2, 3], [4, 5, 6]])\n",
        "scattered = scatter_tensor.scatter(dim=1, index=indices, src=values)\n",
        "print(\"Scattered Tensor:\\n\", scattered)"
      ],
      "metadata": {
        "colab": {
          "base_uri": "https://localhost:8080/"
        },
        "id": "HwpXdJsxVwNN",
        "outputId": "d37d7bba-2649-4d6d-c33b-5d22d88260aa"
      },
      "execution_count": 60,
      "outputs": [
        {
          "output_type": "stream",
          "name": "stdout",
          "text": [
            "Scattered Tensor:\n",
            " tensor([[1, 2, 3, 0, 0],\n",
            "        [4, 5, 0, 0, 6],\n",
            "        [0, 0, 0, 0, 0]])\n"
          ]
        }
      ]
    },
    {
      "cell_type": "code",
      "source": [
        "# I have replaced tensor elements based on a mask using `tensor.masked_fill`.\n",
        "masked_fill_tensor = torch.tensor([[1, 2, 3], [4, 5, 6]])\n",
        "mask = torch.tensor([[True, False, True], [False, True, False]])\n",
        "filled_tensor = masked_fill_tensor.masked_fill(mask, value=-1)\n",
        "print(\"Masked Fill Tensor:\\n\", filled_tensor)"
      ],
      "metadata": {
        "colab": {
          "base_uri": "https://localhost:8080/"
        },
        "id": "kRX-rwaTVy65",
        "outputId": "cd7af1cb-9fde-4ed8-f874-fbd2f6e3d947"
      },
      "execution_count": 61,
      "outputs": [
        {
          "output_type": "stream",
          "name": "stdout",
          "text": [
            "Masked Fill Tensor:\n",
            " tensor([[-1,  2, -1],\n",
            "        [ 4, -1,  6]])\n"
          ]
        }
      ]
    },
    {
      "cell_type": "code",
      "source": [],
      "metadata": {
        "id": "C7Gm3snCWWsY"
      },
      "execution_count": null,
      "outputs": []
    }
  ]
}